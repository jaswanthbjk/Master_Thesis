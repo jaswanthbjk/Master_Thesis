{
 "cells": [
  {
   "cell_type": "code",
   "execution_count": 1,
   "metadata": {},
   "outputs": [
    {
     "name": "stdout",
     "output_type": "stream",
     "text": [
      "              total        used        free      shared  buff/cache   available\n",
      "Mem:           7805        5361        1027         292        1416        1855\n",
      "Swap:          2047        1468         579\n",
      "Fri Jan 29 20:09:36 2021       \n",
      "+-----------------------------------------------------------------------------+\n",
      "| NVIDIA-SMI 455.45.01    Driver Version: 455.45.01    CUDA Version: 11.1     |\n",
      "|-------------------------------+----------------------+----------------------+\n",
      "| GPU  Name        Persistence-M| Bus-Id        Disp.A | Volatile Uncorr. ECC |\n",
      "| Fan  Temp  Perf  Pwr:Usage/Cap|         Memory-Usage | GPU-Util  Compute M. |\n",
      "|                               |                      |               MIG M. |\n",
      "|===============================+======================+======================|\n",
      "|   0  GeForce GTX 105...  On   | 00000000:01:00.0  On |                  N/A |\n",
      "| N/A   51C    P3    N/A /  N/A |    972MiB /  4040MiB |     12%      Default |\n",
      "|                               |                      |                  N/A |\n",
      "+-------------------------------+----------------------+----------------------+\n",
      "                                                                               \n",
      "+-----------------------------------------------------------------------------+\n",
      "| Processes:                                                                  |\n",
      "|  GPU   GI   CI        PID   Type   Process name                  GPU Memory |\n",
      "|        ID   ID                                                   Usage      |\n",
      "|=============================================================================|\n",
      "|    0   N/A  N/A      1927      G   /usr/lib/xorg/Xorg                 36MiB |\n",
      "|    0   N/A  N/A      2555      G   /usr/bin/gnome-shell               48MiB |\n",
      "|    0   N/A  N/A      4521      G   ...AAAAAAAA== --shared-files       57MiB |\n",
      "|    0   N/A  N/A      5188      G   /usr/lib/xorg/Xorg                407MiB |\n",
      "|    0   N/A  N/A      5361      G   /usr/bin/gnome-shell              378MiB |\n",
      "|    0   N/A  N/A      5746      G   ...gAAAAAAAAA --shared-files       27MiB |\n",
      "|    0   N/A  N/A     12464      G   evolution                           1MiB |\n",
      "|    0   N/A  N/A     14004      G   ...AAAAAAAAA= --shared-files        6MiB |\n",
      "+-----------------------------------------------------------------------------+\n"
     ]
    }
   ],
   "source": [
    "!free -m\n",
    "# !df -h\n",
    "!nvidia-smi"
   ]
  },
  {
   "cell_type": "code",
   "execution_count": 35,
   "metadata": {},
   "outputs": [],
   "source": [
    "import tensorflow as tf\n",
    "import numpy as np\n",
    "import matplotlib.pyplot as plt\n",
    "import tensorflow_datasets as tfds\n",
    "from tensorflow.keras.layers import Conv2D, Dense, MaxPooling2D, Flatten, Input, Dropout\n",
    "from tensorflow.keras.activations import relu, softmax\n",
    "from tensorflow.keras.utils import to_categorical"
   ]
  },
  {
   "cell_type": "markdown",
   "metadata": {},
   "source": [
    "# Load MNIST dataset"
   ]
  },
  {
   "cell_type": "code",
   "execution_count": 26,
   "metadata": {},
   "outputs": [],
   "source": [
    "mnist = tf.keras.datasets.mnist\n",
    "\n",
    "(train_images, train_labels), (test_images, test_labels) = mnist.load_data()\n",
    "num_classes = 10"
   ]
  },
  {
   "cell_type": "code",
   "execution_count": 27,
   "metadata": {},
   "outputs": [
    {
     "name": "stdout",
     "output_type": "stream",
     "text": [
      "x_train shape: (60000, 28, 28, 1)\n",
      "60000 train samples\n",
      "10000 test samples\n"
     ]
    }
   ],
   "source": [
    "# Scale images to the [0, 1] range\n",
    "x_train = train_images.astype(\"float32\") / 255\n",
    "x_test = test_images.astype(\"float32\") / 255\n",
    "\n",
    "# Make sure images have shape (28, 28, 1)\n",
    "x_train = np.expand_dims(x_train, -1)\n",
    "x_test = np.expand_dims(x_test, -1)\n",
    "\n",
    "print(\"x_train shape:\", x_train.shape)\n",
    "print(x_train.shape[0], \"train samples\")\n",
    "print(x_test.shape[0], \"test samples\")\n",
    "\n",
    "\n",
    "# convert class vectors to binary class matrices\n",
    "y_train = to_categorical(train_labels, num_classes)\n",
    "y_test = to_categorical(test_labels, num_classes)"
   ]
  },
  {
   "cell_type": "code",
   "execution_count": 28,
   "metadata": {},
   "outputs": [
    {
     "data": {
      "image/png": "[encoded data removed]",
      "text/plain": [
       "<Figure size 432x288 with 2 Axes>"
      ]
     },
     "metadata": {
      "needs_background": "light"
     },
     "output_type": "display_data"
    }
   ],
   "source": [
    "plt.figure()\n",
    "plt.imshow(x_train[0])\n",
    "plt.colorbar()\n",
    "plt.grid(False)\n",
    "plt.show()"
   ]
  },
  {
   "cell_type": "markdown",
   "metadata": {},
   "source": [
    "# Defining MNIST classification model"
   ]
  },
  {
   "cell_type": "code",
   "execution_count": 36,
   "metadata": {},
   "outputs": [
    {
     "name": "stdout",
     "output_type": "stream",
     "text": [
      "Model: \"sequential\"\n",
      "_________________________________________________________________\n",
      "Layer (type)                 Output Shape              Param #   \n",
      "=================================================================\n",
      "conv2d_7 (Conv2D)            (None, 26, 26, 32)        320       \n",
      "_________________________________________________________________\n",
      "max_pooling2d_4 (MaxPooling2 (None, 13, 13, 32)        0         \n",
      "_________________________________________________________________\n",
      "conv2d_8 (Conv2D)            (None, 11, 11, 64)        18496     \n",
      "_________________________________________________________________\n",
      "max_pooling2d_5 (MaxPooling2 (None, 5, 5, 64)          0         \n",
      "_________________________________________________________________\n",
      "flatten_1 (Flatten)          (None, 1600)              0         \n",
      "_________________________________________________________________\n",
      "dropout (Dropout)            (None, 1600)              0         \n",
      "_________________________________________________________________\n",
      "dense_4 (Dense)              (None, 10)                16010     \n",
      "=================================================================\n",
      "Total params: 34,826\n",
      "Trainable params: 34,826\n",
      "Non-trainable params: 0\n",
      "_________________________________________________________________\n"
     ]
    }
   ],
   "source": [
    "input_shape = (28,28,1)\n",
    "model = tf.keras.Sequential(\n",
    "    [\n",
    "        Input(shape=input_shape),\n",
    "        Conv2D(32, kernel_size=(3, 3), activation=\"relu\"),\n",
    "        MaxPooling2D(pool_size=(2, 2)),\n",
    "        Conv2D(64, kernel_size=(3, 3), activation=\"relu\"),\n",
    "        MaxPooling2D(pool_size=(2, 2)),\n",
    "        Flatten(),\n",
    "        Dropout(0.5),\n",
    "        Dense(num_classes, activation=\"softmax\"),\n",
    "    ]\n",
    ")\n",
    "\n",
    "model.summary()"
   ]
  },
  {
   "cell_type": "markdown",
   "metadata": {},
   "source": [
    "# Train MNIST Classifier"
   ]
  },
  {
   "cell_type": "code",
   "execution_count": 37,
   "metadata": {},
   "outputs": [
    {
     "name": "stdout",
     "output_type": "stream",
     "text": [
      "Epoch 1/15\n",
      "422/422 [==============================] - 14s 33ms/step - loss: 0.7582 - accuracy: 0.7657 - val_loss: 0.0786 - val_accuracy: 0.9793\n",
      "Epoch 2/15\n",
      "422/422 [==============================] - 14s 33ms/step - loss: 0.1213 - accuracy: 0.9622 - val_loss: 0.0558 - val_accuracy: 0.9857\n",
      "Epoch 3/15\n",
      "422/422 [==============================] - 14s 33ms/step - loss: 0.0880 - accuracy: 0.9728 - val_loss: 0.0486 - val_accuracy: 0.9875\n",
      "Epoch 4/15\n",
      "422/422 [==============================] - 14s 34ms/step - loss: 0.0724 - accuracy: 0.9784 - val_loss: 0.0422 - val_accuracy: 0.9868\n",
      "Epoch 5/15\n",
      "422/422 [==============================] - 14s 33ms/step - loss: 0.0639 - accuracy: 0.9814 - val_loss: 0.0444 - val_accuracy: 0.9867\n",
      "Epoch 6/15\n",
      "422/422 [==============================] - 14s 34ms/step - loss: 0.0558 - accuracy: 0.9831 - val_loss: 0.0351 - val_accuracy: 0.9903\n",
      "Epoch 7/15\n",
      "422/422 [==============================] - 14s 34ms/step - loss: 0.0507 - accuracy: 0.9838 - val_loss: 0.0338 - val_accuracy: 0.9920\n",
      "Epoch 8/15\n",
      "422/422 [==============================] - 14s 34ms/step - loss: 0.0456 - accuracy: 0.9864 - val_loss: 0.0357 - val_accuracy: 0.9902\n",
      "Epoch 9/15\n",
      "422/422 [==============================] - 15s 34ms/step - loss: 0.0422 - accuracy: 0.9863 - val_loss: 0.0340 - val_accuracy: 0.9920\n",
      "Epoch 10/15\n",
      "422/422 [==============================] - 15s 35ms/step - loss: 0.0401 - accuracy: 0.9870 - val_loss: 0.0317 - val_accuracy: 0.9917\n",
      "Epoch 11/15\n",
      "422/422 [==============================] - 15s 35ms/step - loss: 0.0381 - accuracy: 0.9881 - val_loss: 0.0337 - val_accuracy: 0.9890\n",
      "Epoch 12/15\n",
      "422/422 [==============================] - 15s 35ms/step - loss: 0.0349 - accuracy: 0.9883 - val_loss: 0.0289 - val_accuracy: 0.9917\n",
      "Epoch 13/15\n",
      "422/422 [==============================] - 14s 33ms/step - loss: 0.0324 - accuracy: 0.9897 - val_loss: 0.0294 - val_accuracy: 0.9925\n",
      "Epoch 14/15\n",
      "422/422 [==============================] - 14s 33ms/step - loss: 0.0321 - accuracy: 0.9889 - val_loss: 0.0289 - val_accuracy: 0.9915\n",
      "Epoch 15/15\n",
      "422/422 [==============================] - 14s 33ms/step - loss: 0.0321 - accuracy: 0.9894 - val_loss: 0.0276 - val_accuracy: 0.9925\n"
     ]
    },
    {
     "data": {
      "text/plain": [
       "<tensorflow.python.keras.callbacks.History at 0x7fbc9c5e74e0>"
      ]
     },
     "execution_count": 37,
     "metadata": {},
     "output_type": "execute_result"
    }
   ],
   "source": [
    "batch_size = 128\n",
    "epochs = 15\n",
    "\n",
    "model.compile(loss=\"categorical_crossentropy\", optimizer=\"adam\", metrics=[\"accuracy\"])\n",
    "\n",
    "model.fit(x_train, y_train, batch_size=batch_size, epochs=epochs, validation_split=0.1)"
   ]
  },
  {
   "cell_type": "markdown",
   "metadata": {},
   "source": [
    "# Test the classifier"
   ]
  },
  {
   "cell_type": "code",
   "execution_count": 38,
   "metadata": {},
   "outputs": [
    {
     "name": "stdout",
     "output_type": "stream",
     "text": [
      "Test loss: 0.021527839824557304\n",
      "Test accuracy: 0.9923999905586243\n"
     ]
    }
   ],
   "source": [
    "score = model.evaluate(x_test, y_test, verbose=0)\n",
    "print(\"Test loss:\", score[0])\n",
    "print(\"Test accuracy:\", score[1])"
   ]
  },
  {
   "cell_type": "markdown",
   "metadata": {},
   "source": [
    "### The Performace on Test and Validation dataset shows the model had learned from the MNIST representations"
   ]
  },
  {
   "cell_type": "markdown",
   "metadata": {},
   "source": [
    "# Generating new dataset by permuting the present MNIST dataset"
   ]
  },
  {
   "cell_type": "code",
   "execution_count": 42,
   "metadata": {},
   "outputs": [],
   "source": [
    "def permute_mnist(mnist, seed):\n",
    "    \"\"\" Given the training set, permute pixels of each img the same way. \"\"\"\n",
    "\n",
    "    np.random.seed(seed)\n",
    "    print(\"starting permutation...\")\n",
    "    h = w = 28\n",
    "    perm_inds = list(range(h*w))\n",
    "    np.random.shuffle(perm_inds)\n",
    "    # print(perm_inds)\n",
    "    perm_mnist = []\n",
    "    for set in mnist:\n",
    "        num_img = set.shape[0]\n",
    "        flat_set = set.reshape(num_img, w * h)\n",
    "        perm_mnist.append(flat_set[:, perm_inds].reshape(num_img, w, h, 1))\n",
    "    print(\"done.\")\n",
    "    return perm_mnist"
   ]
  },
  {
   "cell_type": "code",
   "execution_count": 43,
   "metadata": {},
   "outputs": [
    {
     "name": "stdout",
     "output_type": "stream",
     "text": [
      "starting permutation...\n",
      "done.\n"
     ]
    }
   ],
   "source": [
    "x_train2, x_test2 = permute_mnist([x_train, x_test], 0)"
   ]
  },
  {
   "cell_type": "code",
   "execution_count": 47,
   "metadata": {},
   "outputs": [
    {
     "data": {
      "text/plain": [
       "(10000, 28, 28, 1)"
      ]
     },
     "execution_count": 47,
     "metadata": {},
     "output_type": "execute_result"
    }
   ],
   "source": [
    "x_test2.shape"
   ]
  },
  {
   "cell_type": "code",
   "execution_count": 49,
   "metadata": {},
   "outputs": [
    {
     "data": {
      "image/png": "[encoded data removed]",
      "text/plain": [
       "<Figure size 432x288 with 2 Axes>"
      ]
     },
     "metadata": {
      "needs_background": "light"
     },
     "output_type": "display_data"
    }
   ],
   "source": [
    "plt.figure()\n",
    "plt.imshow(x_train2[0], cmap='gray')\n",
    "plt.colorbar()\n",
    "plt.grid(False)\n",
    "plt.show()"
   ]
  },
  {
   "cell_type": "markdown",
   "metadata": {},
   "source": [
    "# Testing Pre-trained MNIST model using the Permuted dataset"
   ]
  },
  {
   "cell_type": "code",
   "execution_count": 50,
   "metadata": {},
   "outputs": [
    {
     "name": "stdout",
     "output_type": "stream",
     "text": [
      "Test loss: 2.921799898147583\n",
      "Test accuracy: 0.13920000195503235\n"
     ]
    }
   ],
   "source": [
    "score = model.evaluate(x_test2, y_test, verbose=0)\n",
    "print(\"Test loss:\", score[0])\n",
    "print(\"Test accuracy:\", score[1])"
   ]
  },
  {
   "cell_type": "markdown",
   "metadata": {},
   "source": [
    "### When used the Permuted Test dataset, the performance of the model is poor. This Sort of performance is expected"
   ]
  },
  {
   "cell_type": "markdown",
   "metadata": {},
   "source": [
    "# Training MNIST classifier using the Permuted Train dataset"
   ]
  },
  {
   "cell_type": "code",
   "execution_count": 51,
   "metadata": {},
   "outputs": [
    {
     "name": "stdout",
     "output_type": "stream",
     "text": [
      "Epoch 1/15\n",
      "422/422 [==============================] - 14s 34ms/step - loss: 0.7660 - accuracy: 0.7485 - val_loss: 0.2889 - val_accuracy: 0.9175\n",
      "Epoch 2/15\n",
      "422/422 [==============================] - 14s 34ms/step - loss: 0.4301 - accuracy: 0.8659 - val_loss: 0.2306 - val_accuracy: 0.9358\n",
      "Epoch 3/15\n",
      "422/422 [==============================] - 14s 33ms/step - loss: 0.3616 - accuracy: 0.8859 - val_loss: 0.1903 - val_accuracy: 0.9460\n",
      "Epoch 4/15\n",
      "422/422 [==============================] - 14s 34ms/step - loss: 0.3230 - accuracy: 0.8992 - val_loss: 0.1754 - val_accuracy: 0.9500\n",
      "Epoch 5/15\n",
      "422/422 [==============================] - 14s 34ms/step - loss: 0.2940 - accuracy: 0.9064 - val_loss: 0.1565 - val_accuracy: 0.9560\n",
      "Epoch 6/15\n",
      "422/422 [==============================] - 14s 34ms/step - loss: 0.2709 - accuracy: 0.9144 - val_loss: 0.1503 - val_accuracy: 0.9595\n",
      "Epoch 7/15\n",
      "422/422 [==============================] - 15s 35ms/step - loss: 0.2550 - accuracy: 0.9189 - val_loss: 0.1493 - val_accuracy: 0.9578\n",
      "Epoch 8/15\n",
      "422/422 [==============================] - 16s 38ms/step - loss: 0.2358 - accuracy: 0.9245 - val_loss: 0.1364 - val_accuracy: 0.9623\n",
      "Epoch 9/15\n",
      "422/422 [==============================] - 17s 41ms/step - loss: 0.2248 - accuracy: 0.9281 - val_loss: 0.1299 - val_accuracy: 0.9637\n",
      "Epoch 10/15\n",
      "422/422 [==============================] - 15s 36ms/step - loss: 0.2155 - accuracy: 0.9307 - val_loss: 0.1274 - val_accuracy: 0.9652\n",
      "Epoch 11/15\n",
      "422/422 [==============================] - 15s 34ms/step - loss: 0.2042 - accuracy: 0.9339 - val_loss: 0.1285 - val_accuracy: 0.9662\n",
      "Epoch 12/15\n",
      "422/422 [==============================] - 15s 35ms/step - loss: 0.1954 - accuracy: 0.9366 - val_loss: 0.1207 - val_accuracy: 0.9653\n",
      "Epoch 13/15\n",
      "422/422 [==============================] - 15s 35ms/step - loss: 0.1906 - accuracy: 0.9386 - val_loss: 0.1164 - val_accuracy: 0.9680\n",
      "Epoch 14/15\n",
      "422/422 [==============================] - 15s 35ms/step - loss: 0.1816 - accuracy: 0.9417 - val_loss: 0.1146 - val_accuracy: 0.9658\n",
      "Epoch 15/15\n",
      "422/422 [==============================] - 15s 35ms/step - loss: 0.1790 - accuracy: 0.9426 - val_loss: 0.1140 - val_accuracy: 0.9667\n"
     ]
    },
    {
     "data": {
      "text/plain": [
       "<tensorflow.python.keras.callbacks.History at 0x7fbc7660a898>"
      ]
     },
     "execution_count": 51,
     "metadata": {},
     "output_type": "execute_result"
    }
   ],
   "source": [
    "model.fit(x_train2, y_train, batch_size=batch_size, epochs=epochs, validation_split=0.1)"
   ]
  },
  {
   "cell_type": "markdown",
   "metadata": {},
   "source": [
    "# Testing the Trained model on Permuted Test dataset"
   ]
  },
  {
   "cell_type": "code",
   "execution_count": 52,
   "metadata": {},
   "outputs": [
    {
     "name": "stdout",
     "output_type": "stream",
     "text": [
      "Test loss: 0.13871419429779053\n",
      "Test accuracy: 0.9569000005722046\n"
     ]
    }
   ],
   "source": [
    "score = model.evaluate(x_test2, y_test, verbose=0)\n",
    "print(\"Test loss:\", score[0])\n",
    "print(\"Test accuracy:\", score[1])"
   ]
  },
  {
   "cell_type": "markdown",
   "metadata": {},
   "source": [
    "### The Performace on Permuted Test and Validation dataset shows the model had learned from the Permuted MNIST representations"
   ]
  },
  {
   "cell_type": "markdown",
   "metadata": {},
   "source": [
    "# Testing the Trained model on MNIST Test dataset "
   ]
  },
  {
   "cell_type": "code",
   "execution_count": 53,
   "metadata": {},
   "outputs": [
    {
     "name": "stdout",
     "output_type": "stream",
     "text": [
      "Test loss: 5.136825084686279\n",
      "Test accuracy: 0.3037000000476837\n"
     ]
    }
   ],
   "source": [
    "score = model.evaluate(x_test, y_test, verbose=0)\n",
    "print(\"Test loss:\", score[0])\n",
    "print(\"Test accuracy:\", score[1])"
   ]
  },
  {
   "cell_type": "markdown",
   "metadata": {},
   "source": [
    "### The Performance of the model that is trained on MNIST and Permuted-MNIST data shows that the model forgot the representations learnt on MNIST data resulting in the reduction of test data accuracy.\n",
    "\n",
    "# This issue is called Catastrophic Forgetting"
   ]
  },
  {
   "cell_type": "markdown",
   "metadata": {},
   "source": [
    "## This effect of Catastrophic Forgetting is alleviated using three methods\n",
    "\n",
    "### 1) Naive\n",
    "### 2) Rehearsal\n",
    "### 3) Elastic Weight Consolidation (EWC)\n",
    "\n",
    "%%latex\n",
    "\\begin{itemize}\n",
    "\\item Naive approach\n",
    "\\end{itemize}\n"
   ]
  },
  {
   "cell_type": "markdown",
   "metadata": {},
   "source": [
    "%%latex\n",
    "$$\\begin{itemize}\n",
    "\\item Naive approach\n",
    "\\end{itemize}$$"
   ]
  },
  {
   "cell_type": "code",
   "execution_count": null,
   "metadata": {},
   "outputs": [],
   "source": []
  }
 ],
 "metadata": {
  "kernelspec": {
   "display_name": "cv_project",
   "language": "python",
   "name": "cv_project"
  },
  "language_info": {
   "codemirror_mode": {
    "name": "ipython",
    "version": 3
   },
   "file_extension": ".py",
   "mimetype": "text/x-python",
   "name": "python",
   "nbconvert_exporter": "python",
   "pygments_lexer": "ipython3",
   "version": "3.6.12"
  }
 },
 "nbformat": 4,
 "nbformat_minor": 4
}
